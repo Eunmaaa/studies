{
  "nbformat": 4,
  "nbformat_minor": 0,
  "metadata": {
    "colab": {
      "provenance": [],
      "mount_file_id": "1yR2Med_rwXB00qUSxCx7n3Ii5xLB8kju",
      "authorship_tag": "ABX9TyNkplHr2tD432H8LxEhEK8E",
      "include_colab_link": true
    },
    "kernelspec": {
      "name": "python3",
      "display_name": "Python 3"
    },
    "language_info": {
      "name": "python"
    }
  },
  "cells": [
    {
      "cell_type": "markdown",
      "metadata": {
        "id": "view-in-github",
        "colab_type": "text"
      },
      "source": [
        "<a href=\"https://colab.research.google.com/github/Eunmaaa/studies/blob/main/%EC%8B%A4%EC%8A%B56.ipynb\" target=\"_parent\"><img src=\"https://colab.research.google.com/assets/colab-badge.svg\" alt=\"Open In Colab\"/></a>"
      ]
    },
    {
      "cell_type": "code",
      "execution_count": null,
      "metadata": {
        "id": "Sm8KAHKbbWhs"
      },
      "outputs": [],
      "source": [
        "text = open('drive/MyDrive/aipython/pianoabc.txt','r').read()\n",
        "print(text)\n",
        "\n",
        "유니크text = list(set(text))\n",
        "유니크text.sort()\n",
        "print(유니크text)\n",
        "\n",
        "# utilities\n",
        "text_to_num = {}  #문자 -> 숫자\n",
        "num_to_text = {}  # 숫자 -> 문자\n",
        "\n",
        "for i,data in enumerate(유니크text):\n",
        "  text_to_num[data] = i\n",
        "  num_to_text[i] = data\n",
        "\n",
        "print(text_to_num)\n",
        "print(num_to_text)\n",
        "\n",
        "숫자화text = []\n",
        "for i in text:\n",
        "  숫자화text.append(text_to_num[i])\n",
        "\n",
        "print(숫자화text)\n",
        "\n",
        "X=[]\n",
        "Y=[]\n",
        "\n",
        "for i in range(0, len(숫자화text) - 25):\n",
        "  X.append( 숫자화text[i : i+25] )\n",
        "  Y.append( 숫자화text[i+25] )\n",
        "\n",
        "print(X[0:5])\n",
        "print(Y)\n",
        "\n",
        "import numpy as np\n",
        "import tensorflow as tf\n",
        "\n",
        "print(np.array(X).shape)  # 출력 : 25개의 데이터가 29만개 있음\n",
        "\n",
        "# 원핫인코딩\n",
        "X = tf.one_hot(X, 31)  #마지막 유니크한 문자 수\n",
        "Y = tf.one_hot(Y, 31)\n",
        "\n"
      ]
    },
    {
      "cell_type": "markdown",
      "source": [
        "# 새 섹션"
      ],
      "metadata": {
        "id": "E4u4Qfr7bYmm"
      }
    },
    {
      "cell_type": "code",
      "source": [
        "model = tf.keras.models.Sequential([\n",
        "    tf.keras.layers.LSTM( 100, input_shape =(25, 31) ),\n",
        "    tf.keras.layers.Dense( 31, activation='softmax' )\n",
        "])\n",
        "\n",
        "model.compile(loss='categorical_crossentropy', optimizer='adam')\n",
        "\n",
        "model.fit( X, Y, batch_size=64, epochs=30, verbose=2 )  # 64개 데이터 학습 후, w 값 업데이트 일어나게 하고 싶다면 batch_size 적용해주기\n",
        "\n",
        "model.save('drive/MyDrive/aipython/model1')\n"
      ],
      "metadata": {
        "colab": {
          "base_uri": "https://localhost:8080/"
        },
        "id": "PZCILZDSdPs4",
        "outputId": "152a0415-b15f-4497-8978-410cb17a650f"
      },
      "execution_count": 12,
      "outputs": [
        {
          "output_type": "stream",
          "name": "stdout",
          "text": [
            "Epoch 1/30\n",
            "4563/4563 - 168s - loss: 1.6385 - 168s/epoch - 37ms/step\n",
            "Epoch 2/30\n",
            "4563/4563 - 163s - loss: 1.3261 - 163s/epoch - 36ms/step\n",
            "Epoch 3/30\n",
            "4563/4563 - 168s - loss: 1.2273 - 168s/epoch - 37ms/step\n",
            "Epoch 4/30\n",
            "4563/4563 - 163s - loss: 1.1688 - 163s/epoch - 36ms/step\n",
            "Epoch 5/30\n",
            "4563/4563 - 166s - loss: 1.1272 - 166s/epoch - 36ms/step\n",
            "Epoch 6/30\n",
            "4563/4563 - 164s - loss: 1.0966 - 164s/epoch - 36ms/step\n",
            "Epoch 7/30\n",
            "4563/4563 - 169s - loss: 1.0717 - 169s/epoch - 37ms/step\n",
            "Epoch 8/30\n",
            "4563/4563 - 163s - loss: 1.0511 - 163s/epoch - 36ms/step\n",
            "Epoch 9/30\n",
            "4563/4563 - 167s - loss: 1.0328 - 167s/epoch - 37ms/step\n",
            "Epoch 10/30\n",
            "4563/4563 - 166s - loss: 1.0171 - 166s/epoch - 36ms/step\n",
            "Epoch 11/30\n",
            "4563/4563 - 164s - loss: 1.0025 - 164s/epoch - 36ms/step\n",
            "Epoch 12/30\n",
            "4563/4563 - 167s - loss: 0.9898 - 167s/epoch - 37ms/step\n",
            "Epoch 13/30\n",
            "4563/4563 - 166s - loss: 0.9778 - 166s/epoch - 36ms/step\n",
            "Epoch 14/30\n",
            "4563/4563 - 167s - loss: 0.9672 - 167s/epoch - 37ms/step\n",
            "Epoch 15/30\n",
            "4563/4563 - 163s - loss: 0.9567 - 163s/epoch - 36ms/step\n",
            "Epoch 16/30\n",
            "4563/4563 - 169s - loss: 0.9465 - 169s/epoch - 37ms/step\n",
            "Epoch 17/30\n",
            "4563/4563 - 163s - loss: 0.9372 - 163s/epoch - 36ms/step\n",
            "Epoch 18/30\n",
            "4563/4563 - 167s - loss: 0.9287 - 167s/epoch - 37ms/step\n",
            "Epoch 19/30\n",
            "4563/4563 - 164s - loss: 0.9206 - 164s/epoch - 36ms/step\n",
            "Epoch 20/30\n",
            "4563/4563 - 169s - loss: 0.9128 - 169s/epoch - 37ms/step\n",
            "Epoch 21/30\n",
            "4563/4563 - 164s - loss: 0.9056 - 164s/epoch - 36ms/step\n",
            "Epoch 22/30\n",
            "4563/4563 - 164s - loss: 0.8985 - 164s/epoch - 36ms/step\n",
            "Epoch 23/30\n",
            "4563/4563 - 166s - loss: 0.8924 - 166s/epoch - 36ms/step\n",
            "Epoch 24/30\n",
            "4563/4563 - 165s - loss: 0.8857 - 165s/epoch - 36ms/step\n",
            "Epoch 25/30\n",
            "4563/4563 - 167s - loss: 0.8797 - 167s/epoch - 37ms/step\n",
            "Epoch 26/30\n",
            "4563/4563 - 163s - loss: 0.8743 - 163s/epoch - 36ms/step\n",
            "Epoch 27/30\n",
            "4563/4563 - 168s - loss: 0.8685 - 168s/epoch - 37ms/step\n",
            "Epoch 28/30\n",
            "4563/4563 - 164s - loss: 0.8639 - 164s/epoch - 36ms/step\n",
            "Epoch 29/30\n",
            "4563/4563 - 166s - loss: 0.8588 - 166s/epoch - 36ms/step\n",
            "Epoch 30/30\n",
            "4563/4563 - 164s - loss: 0.8547 - 164s/epoch - 36ms/step\n"
          ]
        }
      ]
    },
    {
      "cell_type": "code",
      "source": [
        "import tensorflow as tf\n",
        "\n",
        "#모델 불러오기\n",
        "Pmodel = tf.keras.models.load_model('drive/MyDrive/aipython/model1')\n",
        "\n",
        "#문자 집어넣어서 predict\n"
      ],
      "metadata": {
        "id": "AOFAKGHqHVcX"
      },
      "execution_count": 13,
      "outputs": []
    },
    {
      "cell_type": "code",
      "execution_count": null,
      "metadata": {
        "id": "tXdzRy4AH41i"
      },
      "outputs": [],
      "source": [
        "text = open('drive/MyDrive/aipython/pianoabc.txt','r').read()\n",
        "print(text)\n",
        "\n",
        "유니크text = list(set(text))\n",
        "유니크text.sort()\n",
        "\n",
        "# utilities\n",
        "text_to_num = {}  #문자 -> 숫자\n",
        "num_to_text = {}  # 숫자 -> 문자\n",
        "\n",
        "for i,data in enumerate(유니크text):\n",
        "  text_to_num[data] = i\n",
        "  num_to_text[i] = data\n",
        "\n",
        "숫자화text = []\n",
        "\n",
        "for i in text:\n",
        "  숫자화text.append(text_to_num[i])\n",
        "\n",
        "첫입력값 = 숫자화text[117 : 117+25]\n",
        "첫입력값 = tf.one_hot(첫입력값, 31)\n",
        "첫입력값 = tf.expand_dims(첫입력값, axis=0)\n",
        "\n",
        "import numpy as np\n",
        "\n",
        "예측값 = Pmodel.predict(첫입력값)\n",
        "예측값 = np.argmax(예측값[0])\n",
        "print(예측값)\n",
        "print(num_to_text[예측값])\n",
        "\n"
      ]
    },
    {
      "cell_type": "code",
      "source": [
        "#한 음씩 예측하는 연산 -> 여러번 중첩\n",
        "# 첫 입력값 만들기\n",
        "\n",
        "# predict로 다음문자 예측\n",
        "\n",
        "# 예측한 다음 문자 [] 저장 (리스트에 저장 )\n",
        "\n",
        "# 첫 입력값에서 0번째 인덱스(첫번째 음) 마지막에 예측한 문자 넣어서 입력값 생성\n",
        "\n",
        "# 원핫 인코딩, expand dims (2차원 -> 3차원)\n",
        "\n",
        "# 그 새로운 입력값 predict\n",
        "\n",
        "# 반복\n",
        "\n",
        "music = []\n",
        "\n",
        "for i in range(200):\n",
        "  예측값 = Pmodel.predict(첫입력값)\n",
        "  예측값 = np.argmax(예측값[0])\n",
        "\n",
        "  새로운예측값 = np.random.choice(유니크text, 1, p=예측값[0])  # 기존 예측값을 뽑을때 가장 큰 값을 가져왔는데, 이번에는 랜덤하게 뽑음 (p는 확률)\n",
        "\n",
        "\n",
        "  music.append(예측값)\n",
        "\n",
        "  # 다음 입력값 : 0번 인덱스값 제거\n",
        "  다음입력값 = 첫입력값.numpy()[0][1:]  #tensor -> numpy 변환\n",
        "\n",
        "  # 원핫인코딩\n",
        "  one_hot_num = tf.one_hot(예측값, 31)\n",
        "\n",
        "  첫입력값 = np.vstack([다음입력값 , one_hot_num.numpy()])\n",
        "  첫입력값 = tf.expand_dims(첫입력값, axis=0)\n",
        "\n",
        "print(music)\n"
      ],
      "metadata": {
        "id": "dlSjd_MROacL"
      },
      "execution_count": null,
      "outputs": []
    },
    {
      "cell_type": "code",
      "source": [
        "music_text = []\n",
        "for i in music:\n",
        "  music_text.append(num_to_text[i])\n",
        "\n",
        "print(''.join(music_text))\n",
        "\n"
      ],
      "metadata": {
        "colab": {
          "base_uri": "https://localhost:8080/"
        },
        "id": "85CV3GBxWcv3",
        "outputId": "9f0eab59-47e6-4b5b-d0c6-2338a2aeb729"
      },
      "execution_count": 22,
      "outputs": [
        {
          "output_type": "stream",
          "name": "stdout",
          "text": [
            "2af\"G\"gfed\"A7\"cABc\"D\"d2d2d2:2\"D\"A2A2\"G\"B2Bd\"D\"A2A2\"G\"Bd3/2d/2e3/2d/2\"A\"d2B2\"D\"A2A2\"G\"B3/2d/2\"A\"cBA\"G\"B2B\"D\"A2B\"A\"c2B\"D\"A2d\"A\"e2f\"E7\"e2d\"A\"c2AABc\"B\"d2c\"E7\"B2B\"A\"A3A2::A\"D\"d2dd2d\"A\"e2f\"D\"f2f\"A7\"e2c\"D\"d2\n"
          ]
        }
      ]
    }
  ]
}