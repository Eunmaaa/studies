{
  "nbformat": 4,
  "nbformat_minor": 0,
  "metadata": {
    "colab": {
      "provenance": [],
      "toc_visible": true,
      "authorship_tag": "ABX9TyM5wjdZKJS8rN8UGlFQU4o8"
    },
    "kernelspec": {
      "name": "python3",
      "display_name": "Python 3"
    },
    "language_info": {
      "name": "python"
    }
  },
  "cells": [
    {
      "cell_type": "markdown",
      "source": [
        "# 실습"
      ],
      "metadata": {
        "id": "qizoKBS391AB"
      }
    },
    {
      "cell_type": "code",
      "source": [
        "import pandas as pd\n",
        "import tensorflow as tf\n",
        "import numpy as np\n",
        "\n",
        "\n",
        "data = pd.read_csv('gpascore.csv') #csv 파일 읽어옴.\n",
        "#print(data)\n",
        "#print(data.isnull().sum()) #빈값이 있는 셀을 찾아줌\n",
        "data = data.dropna()  # nan/빈값있는 행을 제거해줌\n",
        "#print(data.isnull().sum()) #빈값이 있는 셀을 찾아줌\n",
        "#data = data.fillna(100)  # 빈칸의 값을 입력된 매개변수로 바꿈\n",
        "\n",
        "#print(data['gpa'].min())  # 최소값 (gpa값들 중 )  min, max, count\n",
        "\n",
        "y데이터 = data['admit'].values\n",
        "x데이터 = []\n",
        "for i,rows in data.iterrows():\n",
        "  x데이터.append([rows['gre'],rows['gpa'],rows['rank']])\n",
        "\n",
        "model = tf.keras.models.Sequential([\n",
        "    tf.keras.layers.Dense(64 , activation='tanh'),   # 레이어1 (괄호 안에는 노드의 수)\n",
        "    tf.keras.layers.Dense(128 , activation='tanh'),   # 레이어2\n",
        "    tf.keras.layers.Dense(1 , activation='sigmoid'),     # 레이어3\n",
        "])\n",
        "\n",
        "\n",
        "model.compile(optimizer='adam',loss='binary_crossentropy',metrics=['accuracy'])\n",
        "\n",
        "model.fit( np.array(x데이터), np.array(y데이터), epochs = 1000)  # 딥러닝 학습 진행\n",
        "\n",
        "\n",
        "# 예측\n",
        "predict = model.predict([[750,3.70,3],[400,2.2,1]])\n",
        "print(predict)\n"
      ],
      "metadata": {
        "id": "OeSjVXz597J1"
      },
      "execution_count": null,
      "outputs": []
    },
    {
      "cell_type": "code",
      "execution_count": null,
      "metadata": {
        "id": "PCIty0u6TYNb"
      },
      "outputs": [],
      "source": [
        "import tensorflow as tf\n",
        "\n",
        "train_x = [1,2,3,4,5,6,7]\n",
        "train_y = [3,5,7,9,11,13,15]\n",
        "\n",
        "\n",
        "a = tf.Variable(0.1)\n",
        "b = tf.Variable(0.1)\n",
        "\n",
        "# 예측 모델(수식)만들기\n",
        "# 예측_y = train_x * a + b\n",
        "\n",
        "def 손실함수():\n",
        "  예측_y = train_x * a + b\n",
        "  return tf.keras.losses.mse(train_y,예측_y)\n",
        "\n",
        "def 손실함수2(a, b):\n",
        "  예측_y = train_x * a + b\n",
        "  return tf.keras.losses.mse(train_y,예측_y)\n",
        "\n",
        "# learning rate값은 변경해보면서 값을 찾아주는거 중요 (결과 잘나올때까지 수정해보면서 테스트)\n",
        "opt = tf.keras.optimizers.Adam(learning_rate=0.001)\n",
        "\n",
        "for i in range(2900):\n",
        "  opt.minimize(lambda : 손실함수2(a, b), var_list=[a,b])\n",
        "  print(a.numpy(), b.numpy())\n"
      ]
    },
    {
      "cell_type": "code",
      "source": [],
      "metadata": {
        "id": "PNqeNMRprj9p"
      },
      "execution_count": null,
      "outputs": []
    },
    {
      "cell_type": "markdown",
      "source": [
        "# 새 섹션"
      ],
      "metadata": {
        "id": "y2N6uy8Ur134"
      }
    },
    {
      "cell_type": "code",
      "source": [
        "import tensorflow as tf\n",
        "import matplotlib.pyplot as plt\n",
        "\n",
        "(trainX, trainY), (testX, testY)= tf.keras.datasets.fashion_mnist.load_data()\n",
        "\n",
        "# matplotlib (pyplot)\n",
        "''' plt.imshow( trainX[2] )  # 이미지 띄우기\n",
        "plt.gray()   # 이미지 흑백화\n",
        "plt.colorbar()  # 칼라bar도 이미지랑 같이 띄우기\n",
        "plt.show()   #이미지 출력\n",
        " '''\n",
        "\n",
        "model = tf.keras.Sequential([\n",
        "    tf.keras.layers.Dense(128, input_shape=(28,28), activation=\"relu\"),\n",
        "    tf.keras.layers.Dense(64, activation=\"relu\"),\n",
        "    tf.keras.layers.Flatten(),\n",
        "    tf.keras.layers.Dense(10, activation=\"softmax\"),\n",
        "])\n",
        "\n",
        "model.summary()\n",
        "\n",
        "model.compile(optimizer='adam',loss='sparse_categorical_crossentropy',metrics=['accuracy'])\n",
        "\n",
        "model.fit(trainX, trainY, epochs=5)\n",
        "\n"
      ],
      "metadata": {
        "id": "Lv4J0NOer2yo",
        "outputId": "1fa2af42-0785-4c4e-e5a0-1d0f27b1bf61",
        "colab": {
          "base_uri": "https://localhost:8080/"
        }
      },
      "execution_count": 1,
      "outputs": [
        {
          "output_type": "stream",
          "name": "stdout",
          "text": [
            "Downloading data from https://storage.googleapis.com/tensorflow/tf-keras-datasets/train-labels-idx1-ubyte.gz\n",
            "29515/29515 [==============================] - 0s 0us/step\n",
            "Downloading data from https://storage.googleapis.com/tensorflow/tf-keras-datasets/train-images-idx3-ubyte.gz\n",
            "26421880/26421880 [==============================] - 0s 0us/step\n",
            "Downloading data from https://storage.googleapis.com/tensorflow/tf-keras-datasets/t10k-labels-idx1-ubyte.gz\n",
            "5148/5148 [==============================] - 0s 0us/step\n",
            "Downloading data from https://storage.googleapis.com/tensorflow/tf-keras-datasets/t10k-images-idx3-ubyte.gz\n",
            "4422102/4422102 [==============================] - 0s 0us/step\n",
            "Model: \"sequential\"\n",
            "_________________________________________________________________\n",
            " Layer (type)                Output Shape              Param #   \n",
            "=================================================================\n",
            " dense (Dense)               (None, 28, 128)           3712      \n",
            "                                                                 \n",
            " dense_1 (Dense)             (None, 28, 64)            8256      \n",
            "                                                                 \n",
            " flatten (Flatten)           (None, 1792)              0         \n",
            "                                                                 \n",
            " dense_2 (Dense)             (None, 10)                17930     \n",
            "                                                                 \n",
            "=================================================================\n",
            "Total params: 29,898\n",
            "Trainable params: 29,898\n",
            "Non-trainable params: 0\n",
            "_________________________________________________________________\n",
            "Epoch 1/5\n",
            "1875/1875 [==============================] - 21s 10ms/step - loss: 1.1529 - accuracy: 0.7794\n",
            "Epoch 2/5\n",
            "1875/1875 [==============================] - 12s 7ms/step - loss: 0.4962 - accuracy: 0.8271\n",
            "Epoch 3/5\n",
            "1875/1875 [==============================] - 12s 7ms/step - loss: 0.4685 - accuracy: 0.8364\n",
            "Epoch 4/5\n",
            "1875/1875 [==============================] - 12s 7ms/step - loss: 0.4402 - accuracy: 0.8455\n",
            "Epoch 5/5\n",
            "1875/1875 [==============================] - 12s 6ms/step - loss: 0.4078 - accuracy: 0.8536\n"
          ]
        },
        {
          "output_type": "execute_result",
          "data": {
            "text/plain": [
              "<keras.callbacks.History at 0x7faa2de05720>"
            ]
          },
          "metadata": {},
          "execution_count": 1
        }
      ]
    }
  ]
}