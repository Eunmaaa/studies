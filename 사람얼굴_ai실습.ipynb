{
  "nbformat": 4,
  "nbformat_minor": 0,
  "metadata": {
    "colab": {
      "provenance": [],
      "mount_file_id": "1vbjZdkAkYwMN57BXL_GLa6UAwO-0N6Nz",
      "authorship_tag": "ABX9TyMc6Mf1XBU+Qz2UCfOHcLj6"
    },
    "kernelspec": {
      "name": "python3",
      "display_name": "Python 3"
    },
    "language_info": {
      "name": "python"
    }
  },
  "cells": [
    {
      "cell_type": "code",
      "execution_count": null,
      "metadata": {
        "id": "OCaqNizBks6l"
      },
      "outputs": [],
      "source": [
        "#Discriminator\n",
        "\n",
        "import tensorflow as tf\n",
        "\n",
        "# 이미지가 진짜인지 가짜인지 판정해줌\n",
        "# 인풋 : 이미지, 아웃풋 : 판정결과 (1개)\n",
        "discriminator = tf.keras.models.Sequential([\n",
        "  tf.keras.layers.Conv2D(64, (3,3), strides=(2, 2), padding='same', input_shape=[64,64,1]),\n",
        "  tf.keras.layers.LeakyReLU(alpha=0.2),\n",
        "  tf.keras.layers.Dropout(0.4),\n",
        "  tf.keras.layers.Conv2D(64, (3,3), strides=(2, 2), padding='same'),\n",
        "  tf.keras.layers.LeakyReLU(alpha=0.2),\n",
        "  tf.keras.layers.Dropout(0.4),\n",
        "  tf.keras.layers.Flatten(),\n",
        "  tf.keras.layers.Dense(1, activation='sigmoid')\n",
        "])\n",
        "\n",
        "from tensorflow.keras.layers import Dense, LeakyReLU, Reshape, Dropout, Flatten, Conv2D, Conv2DTranspose, BatchNormalization\n",
        "\n",
        "generator = tf.keras.models.Sequential([\n",
        "  tf.keras.layers.Dense(4 * 4 * 256, input_shape=(100,) ),\n",
        "  tf.keras.layers.Reshape((4, 4, 256)),\n",
        "  tf.keras.layers.Conv2DTranspose(256, 3, strides=2, padding='same'),\n",
        "  tf.keras.layers.LeakyReLU(alpha=0.2),\n",
        "  tf.keras.layers.BatchNormalization(),\n",
        "  tf.keras.layers.Conv2DTranspose(128, 3, strides=2, padding='same'),\n",
        "  tf.keras.layers.LeakyReLU(alpha=0.2),\n",
        "  tf.keras.layers.BatchNormalization(),\n",
        "  tf.keras.layers.Conv2DTranspose(64, 3, strides=2, padding='same'),\n",
        "  tf.keras.layers.LeakyReLU(alpha=0.2),\n",
        "  tf.keras.layers.BatchNormalization(),\n",
        "  tf.keras.layers.Conv2DTranspose(1, 3, strides=2, padding='same', activation='sigmoid')\n",
        "])\n",
        "\n",
        "generator.summary()"
      ]
    },
    {
      "cell_type": "code",
      "source": [
        "GAN = tf.keras.models.Sequential([ generator, discriminator ])\n",
        "\n",
        "discriminator.compile( optimizer = 'adam' , loss='binary_crossentropy' )\n",
        "\n",
        "discriminator.trainable = False\n",
        "\n",
        "GAN.compile( optimizer = 'adam' , loss='binary_crossentropy' )\n"
      ],
      "metadata": {
        "id": "ygipIs3DP0IG"
      },
      "execution_count": null,
      "outputs": []
    }
  ]
}