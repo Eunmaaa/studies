{
  "nbformat": 4,
  "nbformat_minor": 0,
  "metadata": {
    "colab": {
      "provenance": [],
      "authorship_tag": "ABX9TyN+ah3ujPSFbD8sjRvoftYN"
    },
    "kernelspec": {
      "name": "python3",
      "display_name": "Python 3"
    },
    "language_info": {
      "name": "python"
    }
  },
  "cells": [
    {
      "cell_type": "code",
      "execution_count": null,
      "metadata": {
        "id": "F90-h4iVm99B"
      },
      "outputs": [],
      "source": [
        "import os\n",
        "os.environ['KAGGLE_CONFIG_DIR']='/content/'\n",
        "\n",
        "!kaggle competitions download -c dogs-vs-cats-redux-kernels-edition"
      ]
    },
    {
      "cell_type": "code",
      "source": [
        "!unzip -q train.zip -d ."
      ],
      "metadata": {
        "id": "-iVuH8eyreOH"
      },
      "execution_count": 11,
      "outputs": []
    },
    {
      "cell_type": "code",
      "source": [
        "import os\n",
        "print( len( os.listdir('/content/train/') ) )"
      ],
      "metadata": {
        "colab": {
          "base_uri": "https://localhost:8080/"
        },
        "id": "yQ2Y0VF6sbEQ",
        "outputId": "d7aa500b-ff9b-4beb-bdae-335e5d5fd6c0"
      },
      "execution_count": 12,
      "outputs": [
        {
          "output_type": "stream",
          "name": "stdout",
          "text": [
            "25000\n"
          ]
        }
      ]
    },
    {
      "cell_type": "code",
      "source": [
        "from keras.utils.data_utils import shutil\n",
        "import os\n",
        "\n",
        "os.mkdir('/content/dataset')\n",
        "os.mkdir('/content/dataset/cat')\n",
        "os.mkdir('/content/dataset/dog')\n",
        "\n",
        "for i in os.listdir('/content/train/'):\n",
        "  if 'cat' in i:\n",
        "    shutil.copyfile( '/content/train/'+i, '/content/dataset/cat/'+i )\n",
        "  if 'dog' in i:\n",
        "    shutil.copyfile( '/content/train/'+i, '/content/dataset/dog/'+i )\n",
        "\n",
        "print( len( os.listdir('/content/dataset/cat/') ) )\n",
        "print( len( os.listdir('/content/dataset/dog/') ) )\n"
      ],
      "metadata": {
        "id": "JlVIVqiEtETn"
      },
      "execution_count": null,
      "outputs": []
    },
    {
      "cell_type": "code",
      "source": [
        "%rm -rf dataset"
      ],
      "metadata": {
        "id": "bN-omQrx0UbX"
      },
      "execution_count": 17,
      "outputs": []
    },
    {
      "cell_type": "code",
      "source": [
        "import tensorflow as tf\n",
        "import matplotlib.pyplot as plt\n",
        "\n",
        "\n",
        "# train data 전체 데이터의 80%\n",
        "train_ds = tf.keras.preprocessing.image_dataset_from_directory(\n",
        "    '/content/dataset/',\n",
        "    image_size=(64,64),\n",
        "    batch_size=64,\n",
        "    subset = 'training',\n",
        "    validation_split=0.2,\n",
        "    seed=1234\n",
        ")\n",
        "\n",
        "# validation data 전체 데이터의 20%\n",
        "val_ds = tf.keras.preprocessing.image_dataset_from_directory(\n",
        "    '/content/dataset/',\n",
        "    image_size=(64,64),\n",
        "    batch_size=64,\n",
        "    subset = 'validation',\n",
        "    validation_split=0.2,\n",
        "    seed=1234\n",
        ")\n",
        "\n",
        "print(train_ds)\n",
        "\n",
        "def prefunc(i, 답):\n",
        "  i = tf.cast( i/255.0, tf.float32 )\n",
        "  return i, 답\n",
        "\n",
        "train_ds = train_ds.map(prefunc)\n",
        "val_ds = val_ds.map(prefunc)\n",
        "\n",
        "\n",
        "for i, 정답 in train_ds.take(1):\n",
        "  print(i)\n",
        "  print(정답)\n",
        "  #plt.imshow( i[0].numpy().astype('uint8') )\n",
        "  #plt.show()"
      ],
      "metadata": {
        "id": "qNPLWDgUwpw_"
      },
      "execution_count": null,
      "outputs": []
    },
    {
      "cell_type": "code",
      "source": [
        "import tensorflow as tf\n",
        "\n",
        "model = tf.keras.Sequential([\n",
        "    tf.keras.layers.Conv2D(32,(3,3), padding=\"same\", activation='relu', input_shape=(64,64,3)),  # color 사진이라 3\n",
        "    tf.keras.layers.MaxPooling2D((2,2)),\n",
        "    tf.keras.layers.Conv2D(64,(3,3), padding=\"same\", activation='relu' ),  # color 사진이라 3\n",
        "    tf.keras.layers.MaxPooling2D((2,2)),\n",
        "\n",
        "    tf.keras.layers.Dropout(0.2),   # overfitting 완화하기 -> 윗 노드들중에 일부 제거 (예시는 0.2 )\n",
        "\n",
        "    tf.keras.layers.Conv2D(128,(3,3), padding=\"same\", activation='relu' ),  # color 사진이라 3\n",
        "    tf.keras.layers.MaxPooling2D((2,2)),\n",
        "\n",
        "    tf.keras.layers.Flatten(),\n",
        "    tf.keras.layers.Dense(128,activation='relu'),\n",
        "\n",
        "    tf.keras.layers.Dropout(0.2),\n",
        "\n",
        "    tf.keras.layers.Dense(1,activation=\"sigmoid\"),  # 개, 고양이인지 판별이라 노드 갯수는 1\n",
        "])\n",
        "\n",
        "model.summary()\n",
        "\n",
        "model.compile( loss=\"binary_crossentropy\", optimizer=\"adam\", metrics=['accuracy'] )\n",
        "model.fit(train_ds, validation_data=val_ds, epochs=5)"
      ],
      "metadata": {
        "colab": {
          "base_uri": "https://localhost:8080/"
        },
        "id": "F-JW8lGG2Wqv",
        "outputId": "d0bd8fec-7108-427a-94e8-eb4ec737e58c"
      },
      "execution_count": 26,
      "outputs": [
        {
          "output_type": "stream",
          "name": "stdout",
          "text": [
            "Model: \"sequential_2\"\n",
            "_________________________________________________________________\n",
            " Layer (type)                Output Shape              Param #   \n",
            "=================================================================\n",
            " conv2d_6 (Conv2D)           (None, 64, 64, 32)        896       \n",
            "                                                                 \n",
            " max_pooling2d_6 (MaxPooling  (None, 32, 32, 32)       0         \n",
            " 2D)                                                             \n",
            "                                                                 \n",
            " conv2d_7 (Conv2D)           (None, 32, 32, 64)        18496     \n",
            "                                                                 \n",
            " max_pooling2d_7 (MaxPooling  (None, 16, 16, 64)       0         \n",
            " 2D)                                                             \n",
            "                                                                 \n",
            " dropout_4 (Dropout)         (None, 16, 16, 64)        0         \n",
            "                                                                 \n",
            " conv2d_8 (Conv2D)           (None, 16, 16, 128)       73856     \n",
            "                                                                 \n",
            " max_pooling2d_8 (MaxPooling  (None, 8, 8, 128)        0         \n",
            " 2D)                                                             \n",
            "                                                                 \n",
            " flatten_2 (Flatten)         (None, 8192)              0         \n",
            "                                                                 \n",
            " dense_4 (Dense)             (None, 128)               1048704   \n",
            "                                                                 \n",
            " dropout_5 (Dropout)         (None, 128)               0         \n",
            "                                                                 \n",
            " dense_5 (Dense)             (None, 1)                 129       \n",
            "                                                                 \n",
            "=================================================================\n",
            "Total params: 1,142,081\n",
            "Trainable params: 1,142,081\n",
            "Non-trainable params: 0\n",
            "_________________________________________________________________\n",
            "Epoch 1/5\n",
            "313/313 [==============================] - 247s 782ms/step - loss: 0.6342 - accuracy: 0.6291 - val_loss: 0.5592 - val_accuracy: 0.7058\n",
            "Epoch 2/5\n",
            "313/313 [==============================] - 241s 769ms/step - loss: 0.5248 - accuracy: 0.7365 - val_loss: 0.5100 - val_accuracy: 0.7524\n",
            "Epoch 3/5\n",
            "313/313 [==============================] - 243s 775ms/step - loss: 0.4731 - accuracy: 0.7736 - val_loss: 0.4641 - val_accuracy: 0.7866\n",
            "Epoch 4/5\n",
            "313/313 [==============================] - 241s 767ms/step - loss: 0.4153 - accuracy: 0.8088 - val_loss: 0.3961 - val_accuracy: 0.8186\n",
            "Epoch 5/5\n",
            "313/313 [==============================] - 241s 766ms/step - loss: 0.3682 - accuracy: 0.8353 - val_loss: 0.3798 - val_accuracy: 0.8282\n"
          ]
        },
        {
          "output_type": "execute_result",
          "data": {
            "text/plain": [
              "<keras.callbacks.History at 0x7fe3bfe83220>"
            ]
          },
          "metadata": {},
          "execution_count": 26
        }
      ]
    }
  ]
}