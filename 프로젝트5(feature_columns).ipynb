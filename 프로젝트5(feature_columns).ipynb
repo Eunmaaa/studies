{
  "nbformat": 4,
  "nbformat_minor": 0,
  "metadata": {
    "colab": {
      "provenance": [],
      "authorship_tag": "ABX9TyOP6ml0aXG/ss1hCLRml4ct"
    },
    "kernelspec": {
      "name": "python3",
      "display_name": "Python 3"
    },
    "language_info": {
      "name": "python"
    }
  },
  "cells": [
    {
      "cell_type": "code",
      "execution_count": 44,
      "metadata": {
        "colab": {
          "base_uri": "https://localhost:8080/"
        },
        "id": "jV-GcQjNLB4q",
        "outputId": "9064bf56-f495-4fdf-a775-6a203a53a52d"
      },
      "outputs": [
        {
          "output_type": "stream",
          "name": "stdout",
          "text": [
            "     PassengerId  Survived  Pclass  \\\n",
            "0              1         0       3   \n",
            "1              2         1       1   \n",
            "2              3         1       3   \n",
            "3              4         1       1   \n",
            "4              5         0       3   \n",
            "..           ...       ...     ...   \n",
            "886          887         0       2   \n",
            "887          888         1       1   \n",
            "888          889         0       3   \n",
            "889          890         1       1   \n",
            "890          891         0       3   \n",
            "\n",
            "                                                  Name     Sex   Age  SibSp  \\\n",
            "0                              Braund, Mr. Owen Harris    male  22.0      1   \n",
            "1    Cumings, Mrs. John Bradley (Florence Briggs Th...  female  38.0      1   \n",
            "2                               Heikkinen, Miss. Laina  female  26.0      0   \n",
            "3         Futrelle, Mrs. Jacques Heath (Lily May Peel)  female  35.0      1   \n",
            "4                             Allen, Mr. William Henry    male  35.0      0   \n",
            "..                                                 ...     ...   ...    ...   \n",
            "886                              Montvila, Rev. Juozas    male  27.0      0   \n",
            "887                       Graham, Miss. Margaret Edith  female  19.0      0   \n",
            "888           Johnston, Miss. Catherine Helen \"Carrie\"  female   NaN      1   \n",
            "889                              Behr, Mr. Karl Howell    male  26.0      0   \n",
            "890                                Dooley, Mr. Patrick    male  32.0      0   \n",
            "\n",
            "     Parch            Ticket     Fare Embarked  \n",
            "0        0         A/5 21171   7.2500        S  \n",
            "1        0          PC 17599  71.2833        C  \n",
            "2        0  STON/O2. 3101282   7.9250        S  \n",
            "3        0            113803  53.1000        S  \n",
            "4        0            373450   8.0500        S  \n",
            "..     ...               ...      ...      ...  \n",
            "886      0            211536  13.0000        S  \n",
            "887      0            112053  30.0000        S  \n",
            "888      2        W./C. 6607  23.4500        S  \n",
            "889      0            111369  30.0000        C  \n",
            "890      0            370376   7.7500        Q  \n",
            "\n",
            "[891 rows x 11 columns]\n",
            "PassengerId      0\n",
            "Survived         0\n",
            "Pclass           0\n",
            "Name             0\n",
            "Sex              0\n",
            "Age            177\n",
            "SibSp            0\n",
            "Parch            0\n",
            "Ticket           0\n",
            "Fare             0\n",
            "Embarked         2\n",
            "dtype: int64\n",
            "29.69911764705882\n",
            "0    S\n",
            "Name: Embarked, dtype: object\n"
          ]
        }
      ],
      "source": [
        "import pandas as pd\n",
        "\n",
        "\n",
        "data = pd.read_csv('/content/train.csv')\n",
        "print(data)\n",
        "\n",
        "#csv 데이터 전처리\n",
        "\n",
        "print(data.isnull().sum())\n",
        "\n",
        "#평균 구해서 빈칸 채우기 (or 빈칸 데이터가 적은경우는 삭제해도됨.)\n",
        "avg = data['Age'].mean()  #평균\n",
        "print(avg)\n",
        "\n",
        "# 최빈값\n",
        "최빈값 = data['Embarked'].mode()\n",
        "print(최빈값)\n",
        "\n",
        "data['Age'].fillna(value=30, inplace=True)\n",
        "data['Embarked'].fillna(value='S', inplace=True)  # 최대빈도수인 S로 빈칸 채우기\n",
        "\n"
      ]
    },
    {
      "cell_type": "code",
      "source": [
        "import tensorflow as tf\n",
        "from sklearn.model_selection import train_test_split\n",
        "\n",
        "\n",
        "# tf.data.Dataset.from_tensor_slices(x데이터, 정답)\n",
        "# 여기서 x데이터는 csv 데이터에서 정답(정답 column)을 제외한 나머지 데이터들.\n",
        "\n",
        "정답 = data.pop('Survived')\n",
        "#ds = tf.data.Dataset.from_tensor_slices( (dict(data)), 정답)\n",
        "print(data)\n",
        "ds = tf.data.Dataset.from_tensor_slices( (dict(data),정답) )\n",
        "print(ds)\n"
      ],
      "metadata": {
        "colab": {
          "base_uri": "https://localhost:8080/"
        },
        "id": "TVjKX-3dP5Cj",
        "outputId": "dfef16f4-f803-4537-9603-21fc07b772d9"
      },
      "execution_count": 45,
      "outputs": [
        {
          "output_type": "stream",
          "name": "stdout",
          "text": [
            "     PassengerId  Pclass                                               Name  \\\n",
            "0              1       3                            Braund, Mr. Owen Harris   \n",
            "1              2       1  Cumings, Mrs. John Bradley (Florence Briggs Th...   \n",
            "2              3       3                             Heikkinen, Miss. Laina   \n",
            "3              4       1       Futrelle, Mrs. Jacques Heath (Lily May Peel)   \n",
            "4              5       3                           Allen, Mr. William Henry   \n",
            "..           ...     ...                                                ...   \n",
            "886          887       2                              Montvila, Rev. Juozas   \n",
            "887          888       1                       Graham, Miss. Margaret Edith   \n",
            "888          889       3           Johnston, Miss. Catherine Helen \"Carrie\"   \n",
            "889          890       1                              Behr, Mr. Karl Howell   \n",
            "890          891       3                                Dooley, Mr. Patrick   \n",
            "\n",
            "        Sex   Age  SibSp  Parch            Ticket     Fare Embarked  \n",
            "0      male  22.0      1      0         A/5 21171   7.2500        S  \n",
            "1    female  38.0      1      0          PC 17599  71.2833        C  \n",
            "2    female  26.0      0      0  STON/O2. 3101282   7.9250        S  \n",
            "3    female  35.0      1      0            113803  53.1000        S  \n",
            "4      male  35.0      0      0            373450   8.0500        S  \n",
            "..      ...   ...    ...    ...               ...      ...      ...  \n",
            "886    male  27.0      0      0            211536  13.0000        S  \n",
            "887  female  19.0      0      0            112053  30.0000        S  \n",
            "888  female  30.0      1      2        W./C. 6607  23.4500        S  \n",
            "889    male  26.0      0      0            111369  30.0000        C  \n",
            "890    male  32.0      0      0            370376   7.7500        Q  \n",
            "\n",
            "[891 rows x 10 columns]\n",
            "<_TensorSliceDataset element_spec=({'PassengerId': TensorSpec(shape=(), dtype=tf.int64, name=None), 'Pclass': TensorSpec(shape=(), dtype=tf.int64, name=None), 'Name': TensorSpec(shape=(), dtype=tf.string, name=None), 'Sex': TensorSpec(shape=(), dtype=tf.string, name=None), 'Age': TensorSpec(shape=(), dtype=tf.float64, name=None), 'SibSp': TensorSpec(shape=(), dtype=tf.int64, name=None), 'Parch': TensorSpec(shape=(), dtype=tf.int64, name=None), 'Ticket': TensorSpec(shape=(), dtype=tf.string, name=None), 'Fare': TensorSpec(shape=(), dtype=tf.float64, name=None), 'Embarked': TensorSpec(shape=(), dtype=tf.string, name=None)}, TensorSpec(shape=(), dtype=tf.int64, name=None))>\n"
          ]
        }
      ]
    },
    {
      "cell_type": "code",
      "source": [
        "# feature column\n",
        "feature_columns = []\n",
        "\n",
        "# tf.keras.layers.DenseFeatures(feature_columns)\n",
        "\n",
        "# 숫자로 집어넣기 Fare, Parch, SibSp   numeric_column\n",
        "\n",
        "def nor_fare(x):\n",
        "  # 노멀라이저 함수\n",
        "  최대 = data['Fare'].max()\n",
        "  최소 = data['Fare'].min()  #최소값\n",
        "  return (x - 최소) / (최대 - 최소)\n",
        "\n",
        "feature_columns.append(tf.feature_column.numeric_column('Fare',normalizer_fn=nor_fare))  #숫자로 (정수나 실수)\n",
        "feature_columns.append(tf.feature_column.numeric_column('Parch'))  #\n",
        "feature_columns.append(tf.feature_column.numeric_column('SibSp'))  #\n",
        "\n",
        "\n",
        "# 뭉퉁그려서 집어넣기 Age   : bucketized_column\n",
        "Age = tf.feature_column.numeric_column('Age')\n",
        "Age_bucket = tf.feature_column.bucketized_column(Age,boundaries=[10,20,30,40,50,60])\n",
        "feature_columns.append(Age_bucket)\n",
        "\n",
        "print(Age)\n",
        "print(feature_columns)\n"
      ],
      "metadata": {
        "id": "ja5RKp2uYZi0"
      },
      "execution_count": null,
      "outputs": []
    },
    {
      "cell_type": "code",
      "source": [
        "# 종류 몇개 없어서 카테고리화 집어넣기 (원핫인코딩)  Sex Embarked Pclass(좌석 성급)   : indicator_column\n",
        "vocab = data['Sex'].unique()\n",
        "cat = tf.feature_column.categorical_column_with_vocabulary_list('Sex', vocab)\n",
        "one_hot = tf.feature_column.indicator_column(cat)\n",
        "feature_columns.append(one_hot)\n",
        "#print(vocab)\n",
        "\n",
        "vocab = data['Embarked'].unique()\n",
        "cat = tf.feature_column.categorical_column_with_vocabulary_list('Embarked', vocab)\n",
        "one_hot = tf.feature_column.indicator_column(cat)\n",
        "feature_columns.append(one_hot)\n",
        "\n",
        "vocab = data['Pclass'].unique()\n",
        "cat = tf.feature_column.categorical_column_with_vocabulary_list('Pclass', vocab)\n",
        "one_hot = tf.feature_column.indicator_column(cat)\n",
        "feature_columns.append(one_hot)\n",
        "\n",
        "\n",
        "\n",
        "# 종류가 많은 카테고리 (종류가 많아 원핫인코딩하면 비효율적) ex) 티켓종류   Ticket   : embedding_column  원핫인코딩인 아닌 하나의 행렬로 카테고리화\n",
        "vocab = data['Ticket'].unique()\n",
        "cat = tf.feature_column.categorical_column_with_vocabulary_list('Ticket', vocab)\n",
        "one_hot = tf.feature_column.embedding_column(cat, dimension=9)  # dimension 은 크기 얼마의 행렬을 만들건지\n",
        "feature_columns.append(one_hot)\n"
      ],
      "metadata": {
        "id": "4PBnyWO2dpmN"
      },
      "execution_count": null,
      "outputs": []
    },
    {
      "cell_type": "code",
      "source": [
        "# feature column의 모양 확인하기.\n",
        "ds_batch = ds.batch(32)\n",
        "feature_layer = tf.keras.layers.DenseFeatures(tf.feature_column.numeric_column('Age'))\n",
        "feature_layer(next(iter(ds_batch))[0])"
      ],
      "metadata": {
        "id": "Y6_IuMDjkAD_"
      },
      "execution_count": null,
      "outputs": []
    },
    {
      "cell_type": "code",
      "source": [
        "# 모델 만들기 / 학습\n",
        "\n",
        "model = tf.keras.Sequential([\n",
        "    tf.keras.layers.DenseFeatures(feature_columns),\n",
        "    tf.keras.layers.Dense(128, activation='relu'),\n",
        "    tf.keras.layers.Dense(64, activation='relu'),\n",
        "    tf.keras.layers.Dropout(0.2),\n",
        "    tf.keras.layers.Dense(1, activation='sigmoid'),\n",
        "])\n",
        "\n",
        "model.compile(optimizer='adam', loss='binary_crossentropy',metrics=['acc'])\n",
        "\n",
        "ds_batch = ds.batch(32)  # 텐서플로우 dataset에 batch 뽑고싶은 경우\n",
        "\n",
        "# validation data 넣기\n",
        "# batch로 쪼갠 데이터셋은 validation_split 불가능 , numpy array나 tensor 자료형만 가능\n",
        "\n",
        "model.fit(ds_batch ,shuffle=True, epochs = 20)\n"
      ],
      "metadata": {
        "colab": {
          "base_uri": "https://localhost:8080/"
        },
        "id": "rl6e7O1mgmN2",
        "outputId": "ebe46207-42f2-4824-ba13-290186e20c4c"
      },
      "execution_count": 48,
      "outputs": [
        {
          "output_type": "stream",
          "name": "stdout",
          "text": [
            "Epoch 1/20\n"
          ]
        },
        {
          "output_type": "stream",
          "name": "stderr",
          "text": [
            "WARNING:tensorflow:Layers in a Sequential model should only have a single input tensor. Received: inputs={'PassengerId': <tf.Tensor 'IteratorGetNext:5' shape=(None,) dtype=int64>, 'Pclass': <tf.Tensor 'IteratorGetNext:6' shape=(None,) dtype=int64>, 'Name': <tf.Tensor 'IteratorGetNext:3' shape=(None,) dtype=string>, 'Sex': <tf.Tensor 'IteratorGetNext:7' shape=(None,) dtype=string>, 'Age': <tf.Tensor 'IteratorGetNext:0' shape=(None,) dtype=float64>, 'SibSp': <tf.Tensor 'IteratorGetNext:8' shape=(None,) dtype=int64>, 'Parch': <tf.Tensor 'IteratorGetNext:4' shape=(None,) dtype=int64>, 'Ticket': <tf.Tensor 'IteratorGetNext:9' shape=(None,) dtype=string>, 'Fare': <tf.Tensor 'IteratorGetNext:2' shape=(None,) dtype=float64>, 'Embarked': <tf.Tensor 'IteratorGetNext:1' shape=(None,) dtype=string>}. Consider rewriting this model with the Functional API.\n",
            "WARNING:tensorflow:Layers in a Sequential model should only have a single input tensor. Received: inputs={'PassengerId': <tf.Tensor 'IteratorGetNext:5' shape=(None,) dtype=int64>, 'Pclass': <tf.Tensor 'IteratorGetNext:6' shape=(None,) dtype=int64>, 'Name': <tf.Tensor 'IteratorGetNext:3' shape=(None,) dtype=string>, 'Sex': <tf.Tensor 'IteratorGetNext:7' shape=(None,) dtype=string>, 'Age': <tf.Tensor 'IteratorGetNext:0' shape=(None,) dtype=float64>, 'SibSp': <tf.Tensor 'IteratorGetNext:8' shape=(None,) dtype=int64>, 'Parch': <tf.Tensor 'IteratorGetNext:4' shape=(None,) dtype=int64>, 'Ticket': <tf.Tensor 'IteratorGetNext:9' shape=(None,) dtype=string>, 'Fare': <tf.Tensor 'IteratorGetNext:2' shape=(None,) dtype=float64>, 'Embarked': <tf.Tensor 'IteratorGetNext:1' shape=(None,) dtype=string>}. Consider rewriting this model with the Functional API.\n"
          ]
        },
        {
          "output_type": "stream",
          "name": "stdout",
          "text": [
            "28/28 [==============================] - 1s 3ms/step - loss: 0.6687 - acc: 0.6139\n",
            "Epoch 2/20\n",
            "28/28 [==============================] - 0s 3ms/step - loss: 0.6438 - acc: 0.6420\n",
            "Epoch 3/20\n",
            "28/28 [==============================] - 0s 3ms/step - loss: 0.6296 - acc: 0.6521\n",
            "Epoch 4/20\n",
            "28/28 [==============================] - 0s 3ms/step - loss: 0.6228 - acc: 0.6667\n",
            "Epoch 5/20\n",
            "28/28 [==============================] - 0s 3ms/step - loss: 0.6110 - acc: 0.6678\n",
            "Epoch 6/20\n",
            "28/28 [==============================] - 0s 3ms/step - loss: 0.6035 - acc: 0.6768\n",
            "Epoch 7/20\n",
            "28/28 [==============================] - 0s 3ms/step - loss: 0.5966 - acc: 0.6947\n",
            "Epoch 8/20\n",
            "28/28 [==============================] - 0s 3ms/step - loss: 0.5862 - acc: 0.6981\n",
            "Epoch 9/20\n",
            "28/28 [==============================] - 0s 3ms/step - loss: 0.5854 - acc: 0.7082\n",
            "Epoch 10/20\n",
            "28/28 [==============================] - 0s 3ms/step - loss: 0.5829 - acc: 0.7104\n",
            "Epoch 11/20\n",
            "28/28 [==============================] - 0s 3ms/step - loss: 0.5763 - acc: 0.7138\n",
            "Epoch 12/20\n",
            "28/28 [==============================] - 0s 3ms/step - loss: 0.5711 - acc: 0.7262\n",
            "Epoch 13/20\n",
            "28/28 [==============================] - 0s 3ms/step - loss: 0.5702 - acc: 0.7217\n",
            "Epoch 14/20\n",
            "28/28 [==============================] - 0s 3ms/step - loss: 0.5731 - acc: 0.7239\n",
            "Epoch 15/20\n",
            "28/28 [==============================] - 0s 3ms/step - loss: 0.5646 - acc: 0.7262\n",
            "Epoch 16/20\n",
            "28/28 [==============================] - 0s 3ms/step - loss: 0.5660 - acc: 0.7318\n",
            "Epoch 17/20\n",
            "28/28 [==============================] - 0s 3ms/step - loss: 0.5608 - acc: 0.7340\n",
            "Epoch 18/20\n",
            "28/28 [==============================] - 0s 4ms/step - loss: 0.5639 - acc: 0.7329\n",
            "Epoch 19/20\n",
            "28/28 [==============================] - 0s 3ms/step - loss: 0.5590 - acc: 0.7318\n",
            "Epoch 20/20\n",
            "28/28 [==============================] - 0s 3ms/step - loss: 0.5651 - acc: 0.7396\n"
          ]
        },
        {
          "output_type": "execute_result",
          "data": {
            "text/plain": [
              "<keras.callbacks.History at 0x7f60f7ab5690>"
            ]
          },
          "metadata": {},
          "execution_count": 48
        }
      ]
    }
  ]
}