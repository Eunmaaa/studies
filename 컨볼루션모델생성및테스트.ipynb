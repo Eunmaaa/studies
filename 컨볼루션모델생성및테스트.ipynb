{
  "nbformat": 4,
  "nbformat_minor": 0,
  "metadata": {
    "colab": {
      "provenance": [],
      "toc_visible": true,
      "authorship_tag": "ABX9TyNVKZtiJfYqcBhOCS/a//QH"
    },
    "kernelspec": {
      "name": "python3",
      "display_name": "Python 3"
    },
    "language_info": {
      "name": "python"
    }
  },
  "cells": [
    {
      "cell_type": "markdown",
      "source": [
        "# 실습"
      ],
      "metadata": {
        "id": "qizoKBS391AB"
      }
    },
    {
      "cell_type": "code",
      "source": [
        "import pandas as pd\n",
        "import tensorflow as tf\n",
        "import numpy as np\n",
        "\n",
        "\n",
        "data = pd.read_csv('gpascore.csv') #csv 파일 읽어옴.\n",
        "#print(data)\n",
        "#print(data.isnull().sum()) #빈값이 있는 셀을 찾아줌\n",
        "data = data.dropna()  # nan/빈값있는 행을 제거해줌\n",
        "#print(data.isnull().sum()) #빈값이 있는 셀을 찾아줌\n",
        "#data = data.fillna(100)  # 빈칸의 값을 입력된 매개변수로 바꿈\n",
        "\n",
        "#print(data['gpa'].min())  # 최소값 (gpa값들 중 )  min, max, count\n",
        "\n",
        "y데이터 = data['admit'].values\n",
        "x데이터 = []\n",
        "for i,rows in data.iterrows():\n",
        "  x데이터.append([rows['gre'],rows['gpa'],rows['rank']])\n",
        "\n",
        "model = tf.keras.models.Sequential([\n",
        "    tf.keras.layers.Dense(64 , activation='tanh'),   # 레이어1 (괄호 안에는 노드의 수)\n",
        "    tf.keras.layers.Dense(128 , activation='tanh'),   # 레이어2\n",
        "    tf.keras.layers.Dense(1 , activation='sigmoid'),     # 레이어3\n",
        "])\n",
        "\n",
        "\n",
        "model.compile(optimizer='adam',loss='binary_crossentropy',metrics=['accuracy'])\n",
        "\n",
        "model.fit( np.array(x데이터), np.array(y데이터), epochs = 1000)  # 딥러닝 학습 진행\n",
        "\n",
        "\n",
        "# 예측\n",
        "predict = model.predict([[750,3.70,3],[400,2.2,1]])\n",
        "print(predict)\n"
      ],
      "metadata": {
        "id": "OeSjVXz597J1"
      },
      "execution_count": null,
      "outputs": []
    },
    {
      "cell_type": "code",
      "execution_count": null,
      "metadata": {
        "id": "PCIty0u6TYNb"
      },
      "outputs": [],
      "source": [
        "import tensorflow as tf\n",
        "\n",
        "train_x = [1,2,3,4,5,6,7]\n",
        "train_y = [3,5,7,9,11,13,15]\n",
        "\n",
        "\n",
        "a = tf.Variable(0.1)\n",
        "b = tf.Variable(0.1)\n",
        "\n",
        "# 예측 모델(수식)만들기\n",
        "# 예측_y = train_x * a + b\n",
        "\n",
        "def 손실함수():\n",
        "  예측_y = train_x * a + b\n",
        "  return tf.keras.losses.mse(train_y,예측_y)\n",
        "\n",
        "def 손실함수2(a, b):\n",
        "  예측_y = train_x * a + b\n",
        "  return tf.keras.losses.mse(train_y,예측_y)\n",
        "\n",
        "# learning rate값은 변경해보면서 값을 찾아주는거 중요 (결과 잘나올때까지 수정해보면서 테스트)\n",
        "opt = tf.keras.optimizers.Adam(learning_rate=0.001)\n",
        "\n",
        "for i in range(2900):\n",
        "  opt.minimize(lambda : 손실함수2(a, b), var_list=[a,b])\n",
        "  print(a.numpy(), b.numpy())\n"
      ]
    },
    {
      "cell_type": "code",
      "source": [],
      "metadata": {
        "id": "PNqeNMRprj9p"
      },
      "execution_count": null,
      "outputs": []
    },
    {
      "cell_type": "markdown",
      "source": [
        "# 새 섹션"
      ],
      "metadata": {
        "id": "y2N6uy8Ur134"
      }
    },
    {
      "cell_type": "code",
      "source": [
        "import tensorflow as tf\n",
        "import matplotlib.pyplot as plt\n",
        "\n",
        "import numpy as np\n",
        "\n",
        "(trainX, trainY), (testX, testY)= tf.keras.datasets.fashion_mnist.load_data()\n",
        "\n",
        "# matplotlib (pyplot)\n",
        "''' plt.imshow( trainX[2] )  # 이미지 띄우기\n",
        "plt.gray()   # 이미지 흑백화\n",
        "plt.colorbar()  # 칼라bar도 이미지랑 같이 띄우기\n",
        "plt.show()   #이미지 출력\n",
        " '''\n",
        "\n",
        "trainX = trainX / 255.0  # 0~255 -> 0~1 사이의 값으로 데이터 값 압축\n",
        "testX = testX / 255.0\n",
        "\n",
        "trainX = trainX.reshape( (trainX.shape[0], trainX.shape[1], trainX.shape[1], 1) )  # 원래 shape 는 (60000,28,28 )\n",
        "testX = testX.reshape((testX.shape[0], 28, 28, 1))\n",
        "\n",
        "model = tf.keras.Sequential([\n",
        "    tf.keras.layers.Conv2D(32, (3,3), padding=\"same\", activation=\"relu\", input_shape=(28,28,1)),  # Conv2D(이미지 feature 생성갯수, kernel 사이즈 , padding, 활성함수 ,inputshape )\n",
        "    tf.keras.layers.MaxPooling2D((2,2)),  # Pooling 적용 (중요 feature 정보 중간으로 모음)\n",
        "\n",
        "    #tf.keras.layers.Dense(128, input_shape=(28,28), activation=\"relu\"),\n",
        "    tf.keras.layers.Flatten(),\n",
        "    tf.keras.layers.Dense(64, activation=\"relu\"),\n",
        "    tf.keras.layers.Dense(10, activation=\"softmax\"),\n",
        "])\n",
        "\n",
        "model.summary()\n",
        "\n",
        "model.compile(optimizer='adam',loss='sparse_categorical_crossentropy',metrics=['accuracy'])\n",
        "\n",
        "model.fit(trainX, trainY, validation_data= (testX, testY), epochs=5)\n",
        "\n",
        "#score = model.evaluate( testX, testY ) # 학습 후 모델 평가 , 매개변수로는 기존 train 된 데이터 이외의 새로운 데이터를 넣어줘야 정확한 모델 평가 가능\n",
        "#print(score)\n"
      ],
      "metadata": {
        "id": "Lv4J0NOer2yo",
        "outputId": "0e8e7b5d-e0df-470d-f202-7c3e6f00e5d9",
        "colab": {
          "base_uri": "https://localhost:8080/"
        }
      },
      "execution_count": 6,
      "outputs": [
        {
          "output_type": "stream",
          "name": "stdout",
          "text": [
            "Model: \"sequential_1\"\n",
            "_________________________________________________________________\n",
            " Layer (type)                Output Shape              Param #   \n",
            "=================================================================\n",
            " conv2d_1 (Conv2D)           (None, 28, 28, 32)        320       \n",
            "                                                                 \n",
            " max_pooling2d_1 (MaxPooling  (None, 14, 14, 32)       0         \n",
            " 2D)                                                             \n",
            "                                                                 \n",
            " flatten_1 (Flatten)         (None, 6272)              0         \n",
            "                                                                 \n",
            " dense_2 (Dense)             (None, 64)                401472    \n",
            "                                                                 \n",
            " dense_3 (Dense)             (None, 10)                650       \n",
            "                                                                 \n",
            "=================================================================\n",
            "Total params: 402,442\n",
            "Trainable params: 402,442\n",
            "Non-trainable params: 0\n",
            "_________________________________________________________________\n",
            "Epoch 1/5\n",
            "1875/1875 [==============================] - 48s 25ms/step - loss: 0.4005 - accuracy: 0.8585 - val_loss: 0.3375 - val_accuracy: 0.8790\n",
            "Epoch 2/5\n",
            "1875/1875 [==============================] - 46s 25ms/step - loss: 0.2713 - accuracy: 0.9029 - val_loss: 0.2761 - val_accuracy: 0.8986\n",
            "Epoch 3/5\n",
            "1875/1875 [==============================] - 46s 24ms/step - loss: 0.2312 - accuracy: 0.9153 - val_loss: 0.2728 - val_accuracy: 0.9003\n",
            "Epoch 4/5\n",
            "1875/1875 [==============================] - 44s 24ms/step - loss: 0.2031 - accuracy: 0.9245 - val_loss: 0.2585 - val_accuracy: 0.9086\n",
            "Epoch 5/5\n",
            "1875/1875 [==============================] - 45s 24ms/step - loss: 0.1764 - accuracy: 0.9349 - val_loss: 0.2722 - val_accuracy: 0.9052\n"
          ]
        },
        {
          "output_type": "execute_result",
          "data": {
            "text/plain": [
              "<keras.callbacks.History at 0x7fdf0ad1f970>"
            ]
          },
          "metadata": {},
          "execution_count": 6
        }
      ]
    }
  ]
}