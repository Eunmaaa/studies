{
  "nbformat": 4,
  "nbformat_minor": 0,
  "metadata": {
    "colab": {
      "provenance": [],
      "authorship_tag": "ABX9TyM7F469yodoTbzqtnFCiED2"
    },
    "kernelspec": {
      "name": "python3",
      "display_name": "Python 3"
    },
    "language_info": {
      "name": "python"
    }
  },
  "cells": [
    {
      "cell_type": "code",
      "execution_count": null,
      "metadata": {
        "id": "P7OWtwkh_-5d"
      },
      "outputs": [],
      "source": [
        "import tensorflow as tf\n",
        "import numpy as np\n",
        "\n",
        "(trainX, trainY), (testX, testY) = tf.keras.datasets.fashion_mnist.load_data()\n",
        "\n",
        "trainX = trainX / 255.0\n",
        "testX = testX / 255.0\n",
        "\n",
        "trainX = trainX.reshape( (trainX.shape[0], 28,28,1) )\n",
        "testX = testX.reshape( (testX.shape[0], 28,28,1) )\n",
        "\n",
        "model = tf.keras.Sequential([\n",
        "    tf.keras.layers.Flatten( input_shape=(28,28,1) ),\n",
        "    tf.keras.layers.Dense(128, activation='relu'),\n",
        "    tf.keras.layers.Dense(10, activation='softmax'),\n",
        "])\n",
        "\n",
        "콜백함수 = tf.keras.callbacks.ModelCheckpoint(\n",
        "    filepath = '체크포인트2/mnist',\n",
        "    monitor='val_acc',\n",
        "    mode='max',\n",
        "    save_weights_only=True,\n",
        "    save_freq='epoch'\n",
        ")\n",
        "\n",
        "model.summary()\n",
        "\n",
        "model.compile(loss='sparse_categorical_crossentropy', optimizer='adam', metrics=['acc'])\n",
        "model.fit(trainX, trainY, validation_data=(testX, testY), epochs=3, callbacks=[콜백함수])"
      ]
    },
    {
      "cell_type": "code",
      "source": [
        "model.save('새폴더/model1')  # 전체 모델 정보 저장"
      ],
      "metadata": {
        "id": "YubCnbaHAleJ"
      },
      "execution_count": null,
      "outputs": []
    },
    {
      "cell_type": "code",
      "source": [
        "loadmodel = tf.keras.models.load_model('새폴더/model1')\n",
        "\n",
        "loadmodel.summary()\n",
        "\n",
        "model.compile(loss='sparse_categorical_crossentropy', optimizer='adam', metrics=['sparse_categorical_accuracy'])\n",
        "\n",
        "loadmodel.evaluate(testX, testY)  # 불러온 모델로 평가 가능"
      ],
      "metadata": {
        "id": "EG3gsNrABlqn"
      },
      "execution_count": null,
      "outputs": []
    },
    {
      "cell_type": "code",
      "source": [
        "import tensorflow as tf\n",
        "import numpy as np\n",
        "\n",
        "(trainX, trainY), (testX, testY) = tf.keras.datasets.fashion_mnist.load_data()\n",
        "\n",
        "trainX = trainX / 255.0\n",
        "testX = testX / 255.0\n",
        "\n",
        "trainX = trainX.reshape( (trainX.shape[0], 28,28,1) )\n",
        "testX = testX.reshape( (testX.shape[0], 28,28,1) )\n",
        "\n",
        "model2 = tf.keras.Sequential([\n",
        "    tf.keras.layers.Flatten( input_shape=(28,28,1) ),\n",
        "    tf.keras.layers.Dense(128, activation='relu'),\n",
        "    tf.keras.layers.Dense(10, activation='softmax'),\n",
        "])\n",
        "\n",
        "model2.summary()\n",
        "\n",
        "model2.compile(loss='sparse_categorical_crossentropy', optimizer='adam', metrics=['acc'])\n",
        "\n",
        "model2.load_weights('체크포인트2/mnist')   # model2에 체크포인트에 저장해둔 weight값을 불러옴 (체크포인트만 저장된 경우는 모델같은 정보는\n",
        "                                           #  저장안했기때문에 새로만들어주고 체크포인트값을 불러와야함)\n",
        "\n",
        "model2.evaluate(testX, testY)"
      ],
      "metadata": {
        "colab": {
          "base_uri": "https://localhost:8080/"
        },
        "id": "UhjLC7kzE9xA",
        "outputId": "5ec77b55-00fa-4420-a36a-a74b7c64d812"
      },
      "execution_count": 11,
      "outputs": [
        {
          "output_type": "stream",
          "name": "stdout",
          "text": [
            "Model: \"sequential_4\"\n",
            "_________________________________________________________________\n",
            " Layer (type)                Output Shape              Param #   \n",
            "=================================================================\n",
            " flatten_4 (Flatten)         (None, 784)               0         \n",
            "                                                                 \n",
            " dense_8 (Dense)             (None, 128)               100480    \n",
            "                                                                 \n",
            " dense_9 (Dense)             (None, 10)                1290      \n",
            "                                                                 \n",
            "=================================================================\n",
            "Total params: 101,770\n",
            "Trainable params: 101,770\n",
            "Non-trainable params: 0\n",
            "_________________________________________________________________\n",
            "313/313 [==============================] - 1s 2ms/step - loss: 0.3854 - acc: 0.8627\n"
          ]
        },
        {
          "output_type": "execute_result",
          "data": {
            "text/plain": [
              "[0.3853992223739624, 0.8626999855041504]"
            ]
          },
          "metadata": {},
          "execution_count": 11
        }
      ]
    }
  ]
}